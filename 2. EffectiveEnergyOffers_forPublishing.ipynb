{
 "cells": [
  {
   "cell_type": "code",
   "execution_count": 1,
   "metadata": {},
   "outputs": [
    {
     "name": "stdout",
     "output_type": "stream",
     "text": [
      "Populating the interactive namespace from numpy and matplotlib\n"
     ]
    }
   ],
   "source": [
    "import pandas as pd\n",
    "import numpy as np\n",
    "import EAtools as ea\n",
    "from db import DB\n",
    "import os\n",
    "from mpl_toolkits.mplot3d import Axes3D\n",
    "from matplotlib.mlab import griddata\n",
    "import matplotlib.pyplot as plt\n",
    "from matplotlib import cm\n",
    "%pylab inline\n",
    "con = DB(profile=\"millerr\")  # this is the Environment database\n",
    "from datetime import datetime, date, time, timedelta\n",
    "path=os.getcwd()"
   ]
  },
  {
   "cell_type": "code",
   "execution_count": 2,
   "metadata": {},
   "outputs": [],
   "source": [
    "# dateBeg = '2014-01-01'\n",
    "dateBeg = '2021-10-31'\n",
    "dateEnd = '2021-10-31'"
   ]
  },
  {
   "cell_type": "markdown",
   "metadata": {},
   "source": [
    "#### Get generation and reserve"
   ]
  },
  {
   "cell_type": "code",
   "execution_count": 3,
   "metadata": {},
   "outputs": [],
   "source": [
    "def date_converter2(x):\n",
    "    '''Convert date string in form YYYY-MM-DD to datetime object'''\n",
    "    return datetime(int(x.split('-')[0]),\n",
    "                    int(x.split('-')[1]),\n",
    "                    int(x.split('-')[2]))\n",
    "\n",
    "def get_generation_data(con, dateBeg=None, dateEnd=None):\n",
    "    \"\"\"Grab all generation data from the Data Warehouse between dateBeg and dateEnd\"\"\"\n",
    "    q=\"\"\"SELECT \n",
    "      tp.data_date Trading_DATE, \n",
    "      tp.Period Trading_Period,\n",
    "      [ISLAND]+'I' Island,\n",
    "      [pnode_name] PNode,\n",
    "      [Trader_name] Trader_Id,\n",
    "      [cleared_offer] FP_cleared_generation\n",
    "      \n",
    "      FROM [Wholesale_FP].[atomic].[Atm_Spdsolved_Trader_Periods] tp\n",
    "      join [Wholesale_FP].[atomic].[Atm_Mssmkt_Traders] t on tp.data_date=t.data_date and tp.trader_id=t.trader_id\n",
    "      join [DWCommon].[com].[NodeRegion] nr on left(tp.pnode_name,7)=nr.POC\n",
    "      \n",
    "      WHERE trade_type='ENOF'\n",
    "      and tp.data_date between '%s' and '%s' \"\"\" % (dateBeg, dateEnd)\n",
    "    \n",
    "    df = con.query(q)\n",
    "    if not isinstance(df['Trading_DATE'][0], date):\n",
    "        df['Trading_DATE'] = df.Trading_DATE.map(lambda x: date_converter2(x))\n",
    "    df = df.set_index(['Trading_DATE', 'Trading_Period', 'Island', 'Trader_Id',\n",
    "                       'PNode']).sort_index()\n",
    "    return df"
   ]
  },
  {
   "cell_type": "code",
   "execution_count": 4,
   "metadata": {},
   "outputs": [],
   "source": [
    "gen=get_generation_data(con, dateBeg,dateEnd)\n",
    "genComplete=gen.reset_index(['Island','Trader_Id'],drop=True)"
   ]
  },
  {
   "cell_type": "code",
   "execution_count": 5,
   "metadata": {},
   "outputs": [],
   "source": [
    "def get_reserve_cleared(con, dateBeg=None, dateEnd=None):\n",
    "    \"\"\"get cleared reserve data from the Data Warehouse betweeen dateBeg and dateEnd\"\"\"\n",
    "    q = \"\"\"\n",
    "    Select\n",
    "      rc.Trading_DATE,\n",
    "      rc.Trading_Period,\n",
    "      rc.Island,\n",
    "      rc.Reserve_class,\n",
    "      rc.Trader_ID,\n",
    "      rc.PNode,\n",
    "      rc.Trade_type,\n",
    "      rc.FP_reserve_cleared\n",
    "    From\n",
    "      [DWMarketdata].[com].[Fp_Reserve_cleared] rc\n",
    "    Where rc.Trading_Date between '%s' and '%s' \"\"\" % (dateBeg, dateEnd)\n",
    "    \n",
    "    df = con.query(q)\n",
    "    if not isinstance(df['Trading_DATE'][0], date):\n",
    "        df['Trading_DATE'] = df.Trading_DATE.map(lambda x: date_converter2(x))\n",
    "    df = df.set_index(['Trading_DATE', 'Trading_Period', 'Island',\n",
    "                       'Trader_ID', 'Reserve_class', 'Trade_type', 'PNode'])\n",
    "    return df.sort_index()"
   ]
  },
  {
   "cell_type": "code",
   "execution_count": 6,
   "metadata": {},
   "outputs": [],
   "source": [
    "res=get_reserve_cleared(con, dateBeg,dateEnd)\n",
    "resComplete=res.reset_index(['Island','Trader_ID'],drop=True) #used later\n",
    "res.index.set_names('Trader_Id', level=3, inplace=True)\n",
    "resMax=res.loc[res.index.map(lambda x: x[5] in ['PLRO','TWRO'])].groupby(level=[0,1,2,3,4,6]).sum()\\\n",
    ".groupby(level=[0,1,2,3,5]).max() # max of FIR and SIR"
   ]
  },
  {
   "cell_type": "markdown",
   "metadata": {},
   "source": [
    "#### Get Market Node Constaint data"
   ]
  },
  {
   "cell_type": "code",
   "execution_count": 7,
   "metadata": {},
   "outputs": [],
   "source": [
    "def get_MnCnst_data(dateBeg=None,dateEnd=None):\n",
    "    \"\"\"Grab Market Node Constraint data from the Data warehouse betweeen dateBeg and dateEnd\"\"\"\n",
    "    q=r\"\"\"SELECT\n",
    "      [DATA_DATE] Trading_DATE\n",
    "      ,[constraint_name]\n",
    "      ,[PERIOD] Trading_Period\n",
    "      ,[upper_limit] limit\n",
    "      ,[valid_upper_limit]\n",
    "      FROM [Wholesale_FP].[atomic].[Atm_Mssmod_Market_Node_Constraints]\n",
    "      WHERE DATA_DATE between '%s' and '%s' \"\"\" % (dateBeg, dateEnd)\n",
    "    \n",
    "    MnCnst = con.query(q)\n",
    "    MnCnst=MnCnst[MnCnst.valid_upper_limit]\n",
    "    MnCnst.drop(columns='valid_upper_limit',inplace=True)\n",
    "    MnCnst['Trading_DATE'] = MnCnst.Trading_DATE.map(lambda x: date_converter2(x))\n",
    "    MnCnst.set_index(['Trading_DATE','Trading_Period','constraint_name'],inplace=True)\n",
    "    return MnCnst"
   ]
  },
  {
   "cell_type": "code",
   "execution_count": 8,
   "metadata": {},
   "outputs": [],
   "source": [
    "MnCnst=get_MnCnst_data(dateBeg,dateEnd)"
   ]
  },
  {
   "cell_type": "code",
   "execution_count": 9,
   "metadata": {},
   "outputs": [],
   "source": [
    "def get_MnCnstFactors_data(dateBeg=None,dateEnd=None):\n",
    "    \"\"\"Grab Market Node Constraint factors from the DW betweeen dateBeg and dateEnd\"\"\"\n",
    "    q=r\"\"\"SELECT \n",
    "       [DATA_DATE] Trading_DATE\n",
    "      ,[constraint_name]\n",
    "      ,[pnode_name] PNode\n",
    "      ,[trade_type] Trade_type\n",
    "      ,[PERIOD] Trading_Period\n",
    "      ,[factor]\n",
    "      ,[factor_six]\n",
    "      FROM [Wholesale_FP].[atomic].[Atm_Mssmod_Market_Node_Constraint_Weight_Factors]\n",
    "      WHERE DATA_DATE between '%s' and '%s' \"\"\" % (dateBeg, dateEnd)\n",
    "    \n",
    "    MnCnstFactors = con.query(q)\n",
    "    MnCnstFactors['Trading_DATE'] = MnCnstFactors.Trading_DATE.map(lambda x: date_converter2(x))\n",
    "    MnCnstFactors=MnCnstFactors[~MnCnstFactors.constraint_name.str.contains('CTRLMIN')]\n",
    "    MnCnstFactors['constr_block'] = MnCnstFactors.constraint_name.str.rsplit(pat='_', n=1).apply(lambda x: x[0])\n",
    "    MnCnstFactors.set_index(['Trading_DATE','Trading_Period','constr_block','constraint_name','PNode','Trade_type'],inplace=True)\n",
    "    MnCnstFactors=MnCnstFactors.unstack()\n",
    "    MnCnstFactors=MnCnstFactors.reorder_levels([1,0], axis=1)\n",
    "    MnCnstFactors=MnCnstFactors[['ENOF','TWRO','PLRO']]\n",
    "    MnCnstFactors=MnCnstFactors.reorder_levels([1,0], axis=1)\n",
    "    MnCnstFactors=MnCnstFactors.drop(columns=[('factor_six','ENOF')]).fillna(0)\n",
    "    MnCnstFactors=pd.DataFrame(MnCnstFactors.stack().stack())\n",
    "    temp=MnCnstFactors.index.names.copy()\n",
    "    temp[-1]='Reserve_class'\n",
    "    MnCnstFactors.index.names = temp\n",
    "    MnCnstFactors.rename(index={'factor':'SIR','factor_six':'FIR'},inplace=True)\n",
    "    MnCnstFactors.reset_index(['Trade_type','Reserve_class'],inplace=True)\n",
    "    MnCnstFactors.loc[MnCnstFactors.Trade_type=='ENOF','Reserve_class']=NaN\n",
    "    MnCnstFactors.set_index(['Trade_type','Reserve_class'],append=True,inplace=True)\n",
    "    MnCnstFactors.rename(columns={0:'Factor'},inplace=True)\n",
    "    return MnCnstFactors"
   ]
  },
  {
   "cell_type": "code",
   "execution_count": 10,
   "metadata": {},
   "outputs": [],
   "source": [
    "MnCnstFactors=get_MnCnstFactors_data(dateBeg,dateEnd)\n",
    "MnCnstFactors=MnCnstFactors.join(resComplete, on=['Trading_DATE','Trading_Period','Reserve_class','Trade_type','PNode'])\n",
    "MnCnstFactors=MnCnstFactors.join(genComplete, on=['Trading_DATE','Trading_Period','PNode'])\n",
    "MnCnstFactors.reset_index(['Trade_type'],inplace=True)\n",
    "\n",
    "cnstClass=MnCnstFactors.loc[(MnCnstFactors.Trade_type!='ENOF')&(MnCnstFactors.Factor==1)].groupby(level=[0,1,2,3,5]).Factor.max()\n",
    "cnstClass=pd.DataFrame(cnstClass).drop(columns='Factor')\n",
    "\n",
    "MnCnstFactorsRes=MnCnstFactors.copy()\n",
    "MnCnstFactorsRes.loc[MnCnstFactorsRes.Trade_type=='ENOF','component']=\\\n",
    "    MnCnstFactorsRes.loc[MnCnstFactorsRes.Trade_type=='ENOF','Factor']*\\\n",
    "    MnCnstFactorsRes.loc[MnCnstFactorsRes.Trade_type=='ENOF','FP_cleared_generation']\n",
    "MnCnstFactorsRes.loc[MnCnstFactorsRes.Trade_type!='ENOF','component']=0\n",
    "MnCnstFactorsRes.drop(columns=['Factor','FP_reserve_cleared','FP_cleared_generation'],inplace=True)\n",
    "MnCnstFactorsRes.set_index(['Trade_type'],append=True,inplace=True)\n",
    "\n",
    "MnCnstFactors.loc[MnCnstFactors.Trade_type=='ENOF','component']=0\n",
    "MnCnstFactors.loc[MnCnstFactors.Trade_type!='ENOF','component']=\\\n",
    "    MnCnstFactors.loc[MnCnstFactors.Trade_type!='ENOF','Factor']*\\\n",
    "    MnCnstFactors.loc[MnCnstFactors.Trade_type!='ENOF','FP_reserve_cleared']\n",
    "MnCnstFactors.drop(columns=['Factor','FP_reserve_cleared','FP_cleared_generation'],inplace=True)\n",
    "MnCnstFactors.set_index(['Trade_type'],append=True,inplace=True)\n",
    "\n",
    "MnCnstRes=MnCnst.copy()\n",
    "MnCnstRes=MnCnstFactorsRes.join(MnCnstRes,on=['Trading_DATE','Trading_Period','constraint_name'])\n",
    "\n",
    "MnCnst=MnCnstFactors.join(MnCnst,on=['Trading_DATE','Trading_Period','constraint_name'])\n",
    "\n",
    "MnCnstRemRes=MnCnstRes.groupby(level=[0,1,2,3]).agg({'component':sum, 'limit':'first'})\n",
    "MnCnstRemRes['rem']=MnCnstRemRes.limit-MnCnstRemRes.component\n",
    "MnCnstRemRes=cnstClass.join(MnCnstRemRes,on=['Trading_DATE','Trading_Period','constr_block','constraint_name'])\n",
    "MnCnstRemRes=MnCnstRemRes.reset_index('constraint_name',drop=True)['rem']\n",
    "# get the constituent nodes back\n",
    "MnCnstRemRes=MnCnstFactorsRes.join(MnCnstRemRes,on=['Trading_DATE','Trading_Period','constr_block','Reserve_class'])\n",
    "MnCnstRemRes=pd.DataFrame(MnCnstRemRes.groupby(level=[0,1,2,4,5]).rem.first()).reset_index(2)\n",
    "\n",
    "MnCnstRem=MnCnst.groupby(level=[0,1,2,3]).agg({'component':sum, 'limit':'first'})\n",
    "MnCnstRem['rem']=MnCnstRem.limit-MnCnstRem.component\n",
    "\n",
    "MnCnstRem=MnCnstRem.groupby(level=[0,1,2]).rem.min()\n",
    "\n",
    "MnCnstRem=MnCnstFactors.join(MnCnstRem,on=['Trading_DATE','Trading_Period','constr_block'],how='left')\n",
    "\n",
    "MnCnstRem=pd.DataFrame(MnCnstRem.groupby(level=[0,1,2,4]).rem.first()).reset_index(2)"
   ]
  },
  {
   "cell_type": "markdown",
   "metadata": {},
   "source": [
    "### Get Energy Offers"
   ]
  },
  {
   "cell_type": "code",
   "execution_count": 11,
   "metadata": {},
   "outputs": [],
   "source": [
    "def getEnergyOffers(dateBeg,dateEnd):\n",
    "    islandAdjustedOfferQuery=r\"\"\"\n",
    "    Select        \n",
    "    Offer.Trading_DATE,\n",
    "    Offer.Trading_Period\n",
    "      ,map.Island+'I' Island\n",
    "      ,Offer.Trader_Id\n",
    "      ,Offer.Pnode as PNode\n",
    "      ,Offer_Block as Offer_block\n",
    "      ,Offer_Price as Offer_price\n",
    "      ,Offer_Quantity as Offer_quantity\n",
    "      ,Offer_Max_MW as Max_Energy\n",
    "      ,Is_Wind_Offer\n",
    "    From (DWMarketData.com.Fp_Offers offer\n",
    "        inner join DWCommon.com.NodeRegion map on left(offer.pnode,7)=map.POC)\n",
    "\n",
    "        left Join DWMarketData.com.FP_Offer_parameters Para\n",
    "            On (Offer.DTTM_ID = Para.DTTM_ID and Offer.PNode = Para.Pnode)\n",
    "    Where Offer.Trading_Date between '%s' and '%s'\n",
    "        and Trade_type = 'ENOF'\n",
    "        and Offer_Quantity > 0\n",
    "        and (Offer_Max_MW is not null) \n",
    "    Order by Trading_DATE,Trading_Period,PNode,Offer_price,Offer_block\n",
    "    \"\"\" % (dateBeg,dateEnd)\n",
    "\n",
    "    data=con.query(islandAdjustedOfferQuery)\n",
    "\n",
    "    if not isinstance(data['Trading_DATE'][0], date):\n",
    "        data['Trading_DATE'] = data.Trading_DATE.map(lambda x: date_converter2(x))\n",
    "    data = data.set_index(['Trading_DATE', 'Trading_Period', 'Island', 'Trader_Id', 'PNode'])\n",
    "    \n",
    "    return data.sort_index()"
   ]
  },
  {
   "cell_type": "code",
   "execution_count": 12,
   "metadata": {
    "scrolled": true
   },
   "outputs": [],
   "source": [
    "EnOfd = getEnergyOffers(dateBeg,dateEnd)"
   ]
  },
  {
   "cell_type": "markdown",
   "metadata": {},
   "source": [
    "#### join dataframes"
   ]
  },
  {
   "cell_type": "code",
   "execution_count": 13,
   "metadata": {},
   "outputs": [],
   "source": [
    "EnOfd=EnOfd.merge(gen, how='left', on=['Trading_DATE', 'Trading_Period', 'Island', 'Trader_Id', 'PNode']).merge(\n",
    "                    resMax, how='left', on=['Trading_DATE', 'Trading_Period', 'Island', 'Trader_Id', 'PNode']).fillna(0)"
   ]
  },
  {
   "cell_type": "code",
   "execution_count": 14,
   "metadata": {},
   "outputs": [],
   "source": [
    "# Limit wind offers to actual generation\n",
    "EnOfd.loc[EnOfd['Is_Wind_Offer']==1,'Max_Energy']=EnOfd.loc[EnOfd['Is_Wind_Offer']==1,'FP_cleared_generation']\n",
    "EnOfd['Max_Energy']=EnOfd.Max_Energy-EnOfd.FP_reserve_cleared\n",
    "\n",
    "#join has a bug that produces an error so use merge instead\n",
    "EnOfd.reset_index(['Island','Trader_Id'],inplace=True)\n",
    "EnOfd=EnOfd.merge(MnCnstRem, how='left', left_index=True, right_index=True)\n",
    "EnOfd.set_index(['Island','Trader_Id'],inplace=True,append=True)\n",
    "EnOfd=EnOfd.reorder_levels([0,1,3,4,2])\n",
    "EnOfd.constr_block.fillna('None',inplace=True)\n",
    "EnOfd.set_index(['constr_block','Offer_price'],append=True,inplace=True)\n",
    "EnOfd.sort_index(level=[0,1,2,5,6], ascending=True, inplace=True) #price sort each block\n",
    "EnOfd.sort_index(level=[0,1,2,4,6], ascending=True, inplace=True) #price sort each node"
   ]
  },
  {
   "cell_type": "markdown",
   "metadata": {},
   "source": [
    "#### Apply MWMAX"
   ]
  },
  {
   "cell_type": "code",
   "execution_count": 15,
   "metadata": {},
   "outputs": [],
   "source": [
    "energy = []\n",
    "quantity = []\n",
    "lastDate=''\n",
    "lastTp=''\n",
    "lastNode=''  \n",
    "\n",
    "EnOfd.reset_index(inplace=True)"
   ]
  },
  {
   "cell_type": "code",
   "execution_count": 16,
   "metadata": {
    "scrolled": false
   },
   "outputs": [],
   "source": [
    "for index,row in EnOfd.T.iteritems():  \n",
    "    #Check if date, trading period and Pnode is same as last one. If true, calculate the remaining value of max_energy.\n",
    "#     if row['Trading_DATE'] != lastDate:\n",
    "#         print(row['Trading_DATE'])\n",
    "    if row['Trading_DATE'] != lastDate or row['Trading_Period'] != lastTp or row['PNode'] != lastNode:\n",
    "        max_energy = row['Max_Energy']    #chg to max_energy     \n",
    "    else:\n",
    "        max_energy = max_energy - new_quantity   #max_energy remaining up to this point\n",
    "    if max_energy > row['Offer_quantity']:\n",
    "        new_quantity = row['Offer_quantity']\n",
    "    else:\n",
    "        new_quantity = max_energy       \n",
    "\n",
    "    lastDate = row['Trading_DATE']\n",
    "    lastTp = row['Trading_Period']\n",
    "    lastNode = row['PNode']    \n",
    "    energy.append(max_energy)\n",
    "    quantity.append(new_quantity)\n",
    "EnOfd['Quantity_Calc_Temp']=quantity #Adjusted for MWMAX"
   ]
  },
  {
   "cell_type": "markdown",
   "metadata": {},
   "source": [
    "#### Apply Market Node Constraints"
   ]
  },
  {
   "cell_type": "code",
   "execution_count": 17,
   "metadata": {},
   "outputs": [],
   "source": [
    "energy = []\n",
    "quantity = []\n",
    "lastDate=''\n",
    "lastTp=''\n",
    "lastBlk=''  \n",
    "\n",
    "EnOfd.set_index(['Trading_DATE','Trading_Period','Island','Trader_Id','PNode','constr_block','Offer_price'], inplace=True)\n",
    "EnOfd.sort_index(level=[0,1,2,5,6], ascending=True, inplace=True) #price sort each block\n",
    "EnOfd.reset_index(inplace=True)"
   ]
  },
  {
   "cell_type": "code",
   "execution_count": 18,
   "metadata": {},
   "outputs": [],
   "source": [
    "for index,row in EnOfd.T.iteritems():  \n",
    "#     if row['Trading_DATE'] != lastDate:\n",
    "#         print(row['Trading_DATE'])\n",
    "    if row['constr_block']=='None':\n",
    "        max_energy = row['rem']\n",
    "        new_quantity = row['Quantity_Calc_Temp']\n",
    "    else:\n",
    "        #Check if date, trading period and Blk is same as last one. If true, calculate the remaining value of max_energy.\n",
    "        if row['Trading_DATE'] != lastDate or row['Trading_Period'] != lastTp or row['constr_block'] != lastBlk:\n",
    "            max_energy = row['rem']    #chg to max_energy     \n",
    "        else:\n",
    "            max_energy = max_energy - new_quantity   #max_energy remaining up to this point\n",
    "        if max_energy > row['Quantity_Calc_Temp']:\n",
    "            new_quantity = row['Quantity_Calc_Temp']\n",
    "        else:\n",
    "            new_quantity = max_energy       \n",
    "\n",
    "    lastDate = row['Trading_DATE']\n",
    "    lastTp = row['Trading_Period']\n",
    "    lastBlk = row['constr_block']    \n",
    "    energy.append(max_energy)\n",
    "    quantity.append(new_quantity)\n",
    "EnOfd['Quantity_Calc']=quantity #Adjusted for Market Node Constraints\n",
    "\n",
    "EnOfd.to_parquet('EffectiveEnergyOffers.parquet')"
   ]
  }
 ],
 "metadata": {
  "kernelspec": {
   "display_name": "python3.5",
   "language": "python",
   "name": "python3.5"
  },
  "language_info": {
   "codemirror_mode": {
    "name": "ipython",
    "version": 3
   },
   "file_extension": ".py",
   "mimetype": "text/x-python",
   "name": "python",
   "nbconvert_exporter": "python",
   "pygments_lexer": "ipython3",
   "version": "3.5.2"
  },
  "widgets": {
   "state": {},
   "version": "1.1.2"
  }
 },
 "nbformat": 4,
 "nbformat_minor": 1
}
