{
 "cells": [
  {
   "cell_type": "code",
   "execution_count": 1,
   "metadata": {},
   "outputs": [
    {
     "name": "stdout",
     "output_type": "stream",
     "text": [
      "Populating the interactive namespace from numpy and matplotlib\n"
     ]
    },
    {
     "name": "stderr",
     "output_type": "stream",
     "text": [
      "/home/julia/.local/lib/python3.5/site-packages/IPython/html.py:14: ShimWarning: The `IPython.html` package has been deprecated since IPython 4.0. You should import from `notebook` instead. `IPython.html.widgets` has moved to `ipywidgets`.\n",
      "  \"`IPython.html.widgets` has moved to `ipywidgets`.\", ShimWarning)\n"
     ]
    }
   ],
   "source": [
    "import pandas as pd\n",
    "import pandas.io.sql as sql\n",
    "import EAtools as ea\n",
    "%pylab inline\n",
    "from datetime import date, datetime, time, timedelta\n",
    "import pyarrow as pa\n",
    "import pyarrow.parquet as pq\n",
    "import matplotlib.dates as mdates\n",
    "from db import DB\n",
    "db = DB(profile=\"hallj\")  # <need your username here\n",
    "\n",
    "from IPython.html.widgets import interact, fixed\n",
    "from IPython.display import clear_output, display, HTML\n",
    "\n",
    "ea.set_options()\n",
    "ea.ea_all_colours()\n",
    "from matplotlib import rcParams\n",
    "rcParams['font.family'] = 'monospace'\n",
    "from matplotlib import pyplot as plt\n",
    "\n",
    "import os   \n",
    "import sys \n",
    "import datetime\n",
    "import numpy as np\n",
    "\n",
    "path='/media/usb/notebooks/Julia/20192020_review'"
   ]
  },
  {
   "cell_type": "markdown",
   "metadata": {},
   "source": [
    "# DOASA"
   ]
  },
  {
   "cell_type": "code",
   "execution_count": 7,
   "metadata": {},
   "outputs": [
    {
     "data": {
      "text/html": [
       "<div>\n",
       "<style scoped>\n",
       "    .dataframe tbody tr th:only-of-type {\n",
       "        vertical-align: middle;\n",
       "    }\n",
       "\n",
       "    .dataframe tbody tr th {\n",
       "        vertical-align: top;\n",
       "    }\n",
       "\n",
       "    .dataframe thead th {\n",
       "        text-align: right;\n",
       "    }\n",
       "</style>\n",
       "<table border=\"1\" class=\"dataframe\">\n",
       "  <thead>\n",
       "    <tr style=\"text-align: right;\">\n",
       "      <th></th>\n",
       "      <th>marginal_H20_value</th>\n",
       "    </tr>\n",
       "    <tr>\n",
       "      <th>Date</th>\n",
       "      <th></th>\n",
       "    </tr>\n",
       "  </thead>\n",
       "  <tbody>\n",
       "    <tr>\n",
       "      <th>2016-01-01</th>\n",
       "      <td>56.11</td>\n",
       "    </tr>\n",
       "    <tr>\n",
       "      <th>2016-01-02</th>\n",
       "      <td>56.12</td>\n",
       "    </tr>\n",
       "    <tr>\n",
       "      <th>2016-01-03</th>\n",
       "      <td>56.12</td>\n",
       "    </tr>\n",
       "    <tr>\n",
       "      <th>2016-01-04</th>\n",
       "      <td>56.11</td>\n",
       "    </tr>\n",
       "    <tr>\n",
       "      <th>2016-01-05</th>\n",
       "      <td>56.12</td>\n",
       "    </tr>\n",
       "  </tbody>\n",
       "</table>\n",
       "</div>"
      ],
      "text/plain": [
       "            marginal_H20_value\n",
       "Date                          \n",
       "2016-01-01               56.11\n",
       "2016-01-02               56.12\n",
       "2016-01-03               56.12\n",
       "2016-01-04               56.11\n",
       "2016-01-05               56.12"
      ]
     },
     "execution_count": 7,
     "metadata": {},
     "output_type": "execute_result"
    }
   ],
   "source": [
    "DOASA_watervalues = pd.read_csv('/media/P/Market Performance/MarginalH20Values/20210812_DOASA_Simulation_2016_2021_4000iter/Estimated_H20_Marginal_Values/NZ_marginal_H20_value.csv')\n",
    "DOASA_watervalues['Date'] = pd.to_datetime(DOASA_watervalues.tradingdate)\n",
    "DOASA_watervalues = DOASA_watervalues.reset_index(drop=True).set_index(['Date'])\n",
    "DOASA_watervalues = DOASA_watervalues[['marginal_H20_value']]\n",
    "DOASA_watervalues.head()"
   ]
  },
  {
   "cell_type": "code",
   "execution_count": 8,
   "metadata": {},
   "outputs": [],
   "source": [
    "#save parquet file\n",
    "watervalues_table = pa.Table.from_pandas(DOASA_watervalues)\n",
    "pq.write_table(watervalues_table, \"/media/usb/notebooks/Julia/20192020_review/DOASA_avg_watervalue.parquet\")"
   ]
  },
  {
   "cell_type": "code",
   "execution_count": null,
   "metadata": {},
   "outputs": [],
   "source": []
  }
 ],
 "metadata": {
  "kernelspec": {
   "display_name": "Python 3",
   "language": "python",
   "name": "python3"
  },
  "language_info": {
   "codemirror_mode": {
    "name": "ipython",
    "version": 3
   },
   "file_extension": ".py",
   "mimetype": "text/x-python",
   "name": "python",
   "nbconvert_exporter": "python",
   "pygments_lexer": "ipython3",
   "version": "3.5.2"
  }
 },
 "nbformat": 4,
 "nbformat_minor": 2
}
